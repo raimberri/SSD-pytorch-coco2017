{
 "cells": [
  {
   "cell_type": "code",
   "execution_count": 5,
   "metadata": {},
   "outputs": [],
   "source": [
    "from torchvision import transforms\n",
    "from utils import *\n",
    "from PIL import Image, ImageDraw, ImageFont"
   ]
  },
  {
   "cell_type": "code",
   "execution_count": 6,
   "metadata": {},
   "outputs": [
    {
     "name": "stdout",
     "output_type": "stream",
     "text": [
      "\n",
      "Loaded checkpoint from epoch 64.\n",
      "\n"
     ]
    }
   ],
   "source": [
    "device = torch.device(\"cuda\" if torch.cuda.is_available() else \"cpu\")\n",
    "\n",
    "# Load model checkpoint\n",
    "checkpoint = './checkpoint_epoch_63_ssd300.pth.tar'\n",
    "checkpoint = torch.load(checkpoint)\n",
    "start_epoch = checkpoint['epoch'] + 1\n",
    "print('\\nLoaded checkpoint from epoch %d.\\n' % start_epoch)\n",
    "model = checkpoint['model']\n",
    "model = model.to(device)\n",
    "model.eval()\n",
    "\n",
    "# Transforms\n",
    "resize = transforms.Resize((300, 300))\n",
    "to_tensor = transforms.ToTensor()\n",
    "normalize = transforms.Normalize(mean=[0.485, 0.456, 0.406],\n",
    "                                 std=[0.229, 0.224, 0.225])"
   ]
  },
  {
   "cell_type": "code",
   "execution_count": 7,
   "metadata": {},
   "outputs": [],
   "source": [
    "def detect(original_image, min_score, max_overlap, top_k, suppress=None):\n",
    "    # Transform\n",
    "    image = normalize(to_tensor(resize(original_image)))\n",
    "    # Move to default device\n",
    "    image = image.to(device)\n",
    "    # Forward prop.\n",
    "    predicted_locs, predicted_scores = model(image.unsqueeze(0))\n",
    "    det_boxes, det_labels, det_scores = model.detect_objects(predicted_locs, predicted_scores, min_score=min_score,\n",
    "                                                             max_overlap=max_overlap, top_k=top_k)\n",
    "    # Move detections to the CPU\n",
    "    det_boxes = det_boxes[0].to('cpu')\n",
    "    # Transform to original image dimensions\n",
    "    original_dims = torch.FloatTensor(\n",
    "        [original_image.width, original_image.height, original_image.width, original_image.height]).unsqueeze(0)\n",
    "    det_boxes = det_boxes * original_dims\n",
    "    # Decode class integer labels\n",
    "    det_labels = [rev_label_map[l] for l in det_labels[0].to('cpu').tolist()]\n",
    "    # If no objects found, the detected labels will be set to ['0.'], i.e. ['background'] in SSD300.detect_objects() in model.py\n",
    "    if det_labels == ['background']:\n",
    "        # Just return original image\n",
    "        return original_image\n",
    "    # Annotate\n",
    "    annotated_image = original_image\n",
    "    draw = ImageDraw.Draw(annotated_image)\n",
    "    font = ImageFont.load_default()\n",
    "    # Suppress specific classes, if needed\n",
    "    for i in range(det_boxes.size(0)):\n",
    "        if suppress is not None:\n",
    "            if det_labels[i] in suppress:\n",
    "                continue\n",
    "        # Boxes\n",
    "        box_location = det_boxes[i].tolist()\n",
    "        draw.rectangle(xy=box_location, outline=label_color_map[det_labels[i]])\n",
    "        draw.rectangle(xy=[l + 1. for l in box_location], outline=label_color_map[\n",
    "            det_labels[i]])  # a second rectangle at an offset of 1 pixel to increase line thickness\n",
    "        # draw.rectangle(xy=[l + 2. for l in box_location], outline=label_color_map[\n",
    "        #     det_labels[i]])  # a third rectangle at an offset of 1 pixel to increase line thickness\n",
    "        # draw.rectangle(xy=[l + 3. for l in box_location], outline=label_color_map[\n",
    "        #     det_labels[i]])  # a fourth rectangle at an offset of 1 pixel to increase line thickness\n",
    "\n",
    "        # Text\n",
    "        text_size = font.getsize(det_labels[i].upper())\n",
    "        text_location = [box_location[0] + 2., box_location[1] - text_size[1]]\n",
    "        textbox_location = [box_location[0], box_location[1] - text_size[1], box_location[0] + text_size[0] + 4.,\n",
    "                            box_location[1]]\n",
    "        draw.rectangle(xy=textbox_location, fill=label_color_map[det_labels[i]])\n",
    "        draw.text(xy=text_location, text=det_labels[i].upper(), fill='white',\n",
    "                  font=font)\n",
    "    del draw\n",
    "\n",
    "    return annotated_image"
   ]
  },
  {
   "cell_type": "code",
   "execution_count": 8,
   "metadata": {},
   "outputs": [],
   "source": [
    "#img_path = \"./data/val2017/000000000724.jpg\" #1269 #1584\n",
    "img_path = \"./data/val2017/000000001584.jpg\"\n",
    "original_image = Image.open(img_path, mode='r')\n",
    "original_image = original_image.convert('RGB')\n",
    "detect(original_image, min_score=0.2, max_overlap=0.5, top_k=200).show()"
   ]
  }
 ],
 "metadata": {
  "kernelspec": {
   "display_name": "Python 3",
   "language": "python",
   "name": "python3"
  },
  "language_info": {
   "codemirror_mode": {
    "name": "ipython",
    "version": 3
   },
   "file_extension": ".py",
   "mimetype": "text/x-python",
   "name": "python",
   "nbconvert_exporter": "python",
   "pygments_lexer": "ipython3",
   "version": "3.8.5"
  }
 },
 "nbformat": 4,
 "nbformat_minor": 4
}
